{
  "nbformat": 4,
  "nbformat_minor": 0,
  "metadata": {
    "colab": {
      "name": "TASK 3.ipynb",
      "provenance": [],
      "include_colab_link": true
    },
    "kernelspec": {
      "name": "python3",
      "display_name": "Python 3"
    },
    "language_info": {
      "name": "python"
    }
  },
  "cells": [
    {
      "cell_type": "markdown",
      "metadata": {
        "id": "view-in-github",
        "colab_type": "text"
      },
      "source": [
        "<a href=\"https://colab.research.google.com/github/ADITHYA0911/Learn.-pY/blob/main/TASK_3.ipynb\" target=\"_parent\"><img src=\"https://colab.research.google.com/assets/colab-badge.svg\" alt=\"Open In Colab\"/></a>"
      ]
    },
    {
      "cell_type": "markdown",
      "metadata": {
        "id": "z20IIB0eUQMN"
      },
      "source": [
        "1 - Write a program which takes a number as input from the user and check whether the number is odd or even.If odd print the number is odd if not print it is even."
      ]
    },
    {
      "cell_type": "code",
      "metadata": {
        "id": "dVgGJ-wTVRit"
      },
      "source": [
        " \n",
        "num = int(input(\"Enter a number: \"))\n",
        "mod = num % 2\n",
        "if mod > 0:\n",
        "print(\"This is an odd number.\")\n",
        "else:\n",
        "print(\"This is an even number.\") \n",
        "    \n",
        " \n",
        "Enter a number: 5                                                                                             \n",
        "This is an odd number."
      ],
      "execution_count": null,
      "outputs": []
    },
    {
      "cell_type": "markdown",
      "metadata": {
        "id": "7778XD8PVblj"
      },
      "source": [
        "2 -Write a program to find the largest among three numbers and print the largest number."
      ]
    },
    {
      "cell_type": "code",
      "metadata": {
        "id": "m0tUOkOFWR-d"
      },
      "source": [
        "num 1=6\n",
        "num 2=3\n",
        "num 3=9\n",
        " \n",
        "if(num 1>=num 2) and (num 2>=num 3):\n",
        "else:\n",
        "largest number= num 1\n",
        "if(num 2>=num 1) and ( num 2>=num 3):\n",
        "else:\n",
        "   largest number= num 2\n",
        "if( num 3>=num 1) and ( num 3>= num 2):\n",
        "else:\n",
        "   largest number= num 3\n",
        "print(\"The largest number among\", num 1,\", num 2,\"and\", num 3,\"is\", largest)\n",
        " \n",
        "output\n",
        "largest number among 6,3,9 is 9"
      ],
      "execution_count": null,
      "outputs": []
    },
    {
      "cell_type": "markdown",
      "metadata": {
        "id": "Jg2Ns4OQWaJy"
      },
      "source": [
        "3 -Write a function to prompt for a score between 0.0 and 1.0.\n",
        "\n",
        "    If the score is out of range, print an error.\n",
        "    If the score is between 0.0 and 1.0, print a grade using the following table:\n",
        "    Score Grade\n",
        "             Score\tGrade\n",
        "            >= 0.9\tA\n",
        "            >= 0.8\tB\n",
        "            >= 0.7\tC\n",
        "            >= 0.6\tD\n",
        "             < 0.6\tF\n",
        "If the user enters a value out of range, print a suitable error message and exit. For the test, enter a score of 0.85."
      ]
    },
    {
      "cell_type": "code",
      "metadata": {
        "id": "6DLbGe6XXZPx"
      },
      "source": [
        "mark= 0.85\n",
        "Pass mark >0.6\n",
        " \n",
        "if mark>pass _ mark:\n",
        "   print (\"passed\"):\n",
        "if mark >=0.9:\n",
        "   print(\" you have grade A\") \n",
        "if mark >= 0.8:\n",
        "   print (\" you have grade B\")\n",
        "else:\n",
        "   print (\" failed\")"
      ],
      "execution_count": null,
      "outputs": []
    },
    {
      "cell_type": "markdown",
      "metadata": {
        "id": "-o0scDq7WkVT"
      },
      "source": [
        ""
      ]
    }
  ]
}